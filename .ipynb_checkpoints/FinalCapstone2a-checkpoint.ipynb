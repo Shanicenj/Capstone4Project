{
 "cells": [
  {
   "cell_type": "code",
   "execution_count": null,
   "metadata": {},
   "outputs": [],
   "source": [
    "import pandas as pd\n",
    "import numpy as np\n",
    "import statsmodels.formula.api as smf\n",
    "from scipy.stats import beta\n",
    "from scipy import stats\n",
    "np.random.seed(seed=42)\n",
    "import math \n",
    "import sklearn.metrics\n",
    "from sklearn.metrics import confusion_matrix, accuracy_score, r2_score\n",
    "from sklearn.model_selection import train_test_split"
   ]
  },
  {
   "cell_type": "code",
   "execution_count": null,
   "metadata": {},
   "outputs": [],
   "source": [
    "import random\n",
    "from random import randint"
   ]
  },
  {
   "cell_type": "code",
   "execution_count": null,
   "metadata": {},
   "outputs": [],
   "source": [
    "import re  "
   ]
  },
  {
   "cell_type": "markdown",
   "metadata": {},
   "source": [
    "# Importing & Data Cleaning"
   ]
  },
  {
   "cell_type": "code",
   "execution_count": null,
   "metadata": {},
   "outputs": [],
   "source": [
    "pd.set_option('display.max_columns', 500)"
   ]
  },
  {
   "cell_type": "code",
   "execution_count": null,
   "metadata": {},
   "outputs": [],
   "source": [
    "accidents = pd.read_csv('~/Downloads/US_Accidents_June20.csv', delimiter = ',', header = 0, low_memory=False)"
   ]
  },
  {
   "cell_type": "code",
   "execution_count": null,
   "metadata": {},
   "outputs": [],
   "source": [
    "accidents.drop(['Source', 'End_Lat', 'End_Lng', 'Number', 'Weather_Timestamp', 'Airport_Code', 'Civil_Twilight', 'Nautical_Twilight', 'Astronomical_Twilight'], axis=1, inplace = True)"
   ]
  },
  {
   "cell_type": "code",
   "execution_count": null,
   "metadata": {
    "scrolled": true
   },
   "outputs": [],
   "source": [
    "accidents.info()"
   ]
  },
  {
   "cell_type": "code",
   "execution_count": null,
   "metadata": {
    "scrolled": true
   },
   "outputs": [],
   "source": [
    "accidents.isnull().sum()"
   ]
  },
  {
   "cell_type": "code",
   "execution_count": null,
   "metadata": {},
   "outputs": [],
   "source": [
    "accidents.loc[accidents['Wind_Direction']=='Calm','Wind_Direction'] = 'CALM'\n",
    "accidents.loc[(accidents['Wind_Direction']=='West')|(accidents['Wind_Direction']=='WSW')|(accidents['Wind_Direction']=='WNW'),'Wind_Direction'] = 'W'\n",
    "accidents.loc[(accidents['Wind_Direction']=='South')|(accidents['Wind_Direction']=='SSW')|(accidents['Wind_Direction']=='SSE'),'Wind_Direction'] = 'S'\n",
    "accidents.loc[(accidents['Wind_Direction']=='North')|(accidents['Wind_Direction']=='NNW')|(accidents['Wind_Direction']=='NNE'),'Wind_Direction'] = 'N'\n",
    "accidents.loc[accidents['Wind_Direction']=='Variable','Wind_Direction'] = 'VAR'"
   ]
  },
  {
   "cell_type": "code",
   "execution_count": null,
   "metadata": {},
   "outputs": [],
   "source": [
    "# accidents['Clear'] = np.where(accidents['Weather_Condition'].str.contains('Clear', case=False, na = False), 1, 0)\n",
    "# accidents['Cloud'] = np.where(accidents['Weather_Condition'].str.contains('Cloud|Overcast', case=False, na = False), 1, 0)\n",
    "# accidents['Rain'] = np.where(accidents['Weather_Condition'].str.contains('Rain|storm', case=False, na = False), 1, 0)\n",
    "# accidents['Heavy_Rain'] = np.where(accidents['Weather_Condition'].str.contains('Heavy Rain|Rain Shower|Heavy T-Storm|Heavy Thunderstorms', case=False, na = False), 1, 0)\n",
    "# accidents['Snow'] = np.where(accidents['Weather_Condition'].str.contains('Snow|Sleet|Ice', case=False, na = False), 1, 0)\n",
    "# accidents['Heavy_Snow'] = np.where(accidents['Weather_Condition'].str.contains('Heavy Snow|Heavy Sleet|Heavy Ice Pellets|Snow Showers|Squalls', case=False, na = False), 1, 0)\n",
    "# accidents['Fog'] = np.where(accidents['Weather_Condition'].str.contains('Fog', case=False, na = False), 1, 0)\n",
    "\n",
    "# # Assign NA to created weather features where 'Weather_Condition' is null.\n",
    "# weather = ['Clear','Cloud','Rain','Heavy_Rain','Snow','Heavy_Snow','Fog']\n",
    "# for i in weather:\n",
    "#   accidents.loc[accidents['Weather_Condition'].isnull(),i] = accidents.loc[accidents['Weather_Condition'].isnull(),'Weather_Condition']\n",
    "\n",
    "# accidents.loc[:,['Weather_Condition'] + weather]\n",
    "\n",
    "# accidents = accidents.drop(['Weather_Condition'], axis=1)"
   ]
  },
  {
   "cell_type": "code",
   "execution_count": null,
   "metadata": {},
   "outputs": [],
   "source": [
    "accidents['Start_Time'] = pd.to_datetime(accidents['Start_Time'], errors='coerce')\n",
    "accidents['End_Time'] = pd.to_datetime(accidents['End_Time'], errors='coerce')"
   ]
  },
  {
   "cell_type": "code",
   "execution_count": null,
   "metadata": {},
   "outputs": [],
   "source": [
    "accidents['Timezone'] = accidents['Timezone'].str.lstrip('US/')"
   ]
  },
  {
   "cell_type": "code",
   "execution_count": null,
   "metadata": {},
   "outputs": [],
   "source": [
    "accidents['Year'] = pd.DatetimeIndex(accidents['Start_Time']).year"
   ]
  },
  {
   "cell_type": "code",
   "execution_count": null,
   "metadata": {},
   "outputs": [],
   "source": [
    "accidents['Month'] = pd.DatetimeIndex(accidents['Start_Time']).month"
   ]
  },
  {
   "cell_type": "code",
   "execution_count": null,
   "metadata": {},
   "outputs": [],
   "source": [
    "import calendar"
   ]
  },
  {
   "cell_type": "code",
   "execution_count": null,
   "metadata": {},
   "outputs": [],
   "source": [
    "accidents['Month'] = accidents['Month'].apply(lambda x: calendar.month_abbr[x])"
   ]
  },
  {
   "cell_type": "code",
   "execution_count": null,
   "metadata": {},
   "outputs": [],
   "source": [
    "accidents['DayOfWeek'] = accidents['Start_Time'].apply(lambda x: x.weekday())"
   ]
  },
  {
   "cell_type": "code",
   "execution_count": null,
   "metadata": {},
   "outputs": [],
   "source": [
    "accidents['DayOfWeek'] = accidents['DayOfWeek'].apply(str)"
   ]
  },
  {
   "cell_type": "code",
   "execution_count": null,
   "metadata": {},
   "outputs": [],
   "source": [
    "accidents['DayOfWeek'] = accidents['DayOfWeek'].replace(['0','1','2', '3', '4', '5', '6'], ['Mon', 'Tues', 'Wed', 'Thurs', 'Fri', 'Sat', 'Sun'])"
   ]
  },
  {
   "cell_type": "code",
   "execution_count": null,
   "metadata": {},
   "outputs": [],
   "source": [
    "accidents['Duration'] = accidents['End_Time'] - accidents['Start_Time']\n",
    "accidents['Durination_InMinutes']=accidents['Duration']/np.timedelta64(1,'m')"
   ]
  },
  {
   "cell_type": "code",
   "execution_count": null,
   "metadata": {},
   "outputs": [],
   "source": [
    "accidents.round(1)"
   ]
  },
  {
   "cell_type": "code",
   "execution_count": null,
   "metadata": {},
   "outputs": [],
   "source": [
    "accidents.info()"
   ]
  },
  {
   "cell_type": "code",
   "execution_count": null,
   "metadata": {
    "scrolled": true
   },
   "outputs": [],
   "source": [
    "for col, values in accidents.iteritems():\n",
    "    num_uniques = values.nunique()\n",
    "    print ('{name}: {num_unique}'.format(name=col, num_unique=num_uniques))\n",
    "    print (values.unique())\n",
    "    print ('\\n')"
   ]
  },
  {
   "cell_type": "code",
   "execution_count": null,
   "metadata": {},
   "outputs": [],
   "source": [
    "accidents.to_csv('Accidents.csv')"
   ]
  },
  {
   "cell_type": "code",
   "execution_count": null,
   "metadata": {},
   "outputs": [],
   "source": [
    "accidents2 = pd.read_csv('Accidents.csv')"
   ]
  },
  {
   "cell_type": "code",
   "execution_count": null,
   "metadata": {},
   "outputs": [],
   "source": [
    "accidents2 = accidents.drop(columns='Unnamed: 0')"
   ]
  },
  {
   "cell_type": "code",
   "execution_count": null,
   "metadata": {},
   "outputs": [],
   "source": [
    "accidents2.info()"
   ]
  },
  {
   "cell_type": "markdown",
   "metadata": {},
   "source": [
    "# Visualizations - Accidents by Day, Month and Year"
   ]
  },
  {
   "cell_type": "code",
   "execution_count": null,
   "metadata": {},
   "outputs": [],
   "source": [
    "import seaborn as sns\n",
    "import matplotlib.pyplot as plt\n",
    "from matplotlib import pyplot as plt"
   ]
  },
  {
   "cell_type": "code",
   "execution_count": null,
   "metadata": {},
   "outputs": [],
   "source": [
    "sns.set(rc={'figure.figsize': (16, 12)})"
   ]
  },
  {
   "cell_type": "code",
   "execution_count": null,
   "metadata": {},
   "outputs": [],
   "source": [
    "#Number of Accidents Occuring by Day\n",
    "sns.catplot(x = 'DayOfWeek', data=accidents2, kind='count')"
   ]
  },
  {
   "cell_type": "code",
   "execution_count": null,
   "metadata": {},
   "outputs": [],
   "source": [
    "corr = accidents2.corr()\n",
    "ax = sns.heatmap(\n",
    "    corr, \n",
    "    vmin=-1, vmax=1, center=0,\n",
    "    cmap=sns.diverging_palette(20, 220, n=200),\n",
    "    square=True\n",
    ")\n",
    "ax.set_xticklabels(\n",
    "    ax.get_xticklabels(),\n",
    "    rotation=45,\n",
    "    horizontalalignment='right'\n",
    ");"
   ]
  },
  {
   "cell_type": "code",
   "execution_count": null,
   "metadata": {},
   "outputs": [],
   "source": [
    "#Number of Accidents Occuring by Month\n",
    "sns.set(rc={'figure.figsize': (16, 12)})\n",
    "sns.set_palette('GnBu_d')\n",
    "sns.catplot(x = 'Month', data=accidents2, kind='count', order =accidents2.sort_values('Month').Month)"
   ]
  },
  {
   "cell_type": "code",
   "execution_count": null,
   "metadata": {},
   "outputs": [],
   "source": [
    "# sns.set(rc={'figure.figsize': (16, 12)})\n",
    "# sns.set_context(\"poster\", font_scale = .75, rc={\"grid.linewidth\": 1.0})\n",
    "# ax = sns.boxplot(x = 'DayOfWeek', y = 'Duration', data = accidents, color = 'cyan')"
   ]
  },
  {
   "cell_type": "code",
   "execution_count": null,
   "metadata": {},
   "outputs": [],
   "source": [
    "# sns.set(rc={'figure.figsize': (10, 6)})\n",
    "# sns.catplot(x=\"OperatingSystem\", y=\"TransactionAmt\", hue=\"isFraud\",\n",
    "#             col=\"Timezone\", aspect=.6,\n",
    "#             kind=\"swarm\", data=merged);"
   ]
  },
  {
   "cell_type": "code",
   "execution_count": null,
   "metadata": {},
   "outputs": [],
   "source": [
    "#Accidents Occuring by the Hour \n",
    "accidents['TimeofAccident'] = pd.to_datetime(accidents2['Start_Time'], errors='coerce')\n",
    "accidents['Hour'] = accidents2['Start_Time'] .dt.hour\n",
    "accidents['Minute'] = accidents2['Start_Time'] .dt.minute\n",
    "hours = [hour for hour, df in accidents2.groupby('Hour')]\n",
    "plt.plot(hours, accidents2.groupby(['Hour'])['ID'].count())\n",
    "plt.xticks(hours)\n",
    "plt.xlabel('Time of Day by Hour')\n",
    "plt.ylabel('Numer of Accidents')\n",
    "plt.grid(True)\n",
    "plt.show()"
   ]
  },
  {
   "cell_type": "code",
   "execution_count": null,
   "metadata": {},
   "outputs": [],
   "source": [
    "#Accidents by Year\n",
    "sns.set_context('talk')\n",
    "sns.set_palette('magma')\n",
    "a = sns.catplot(x='Year',data=accidents2,kind='count')\n",
    "a.fig.suptitle('Accidents by Year ',y=1.03)\n",
    "a.set(ylabel='Accident Count',xlabel='Year')\n",
    "plt.show()"
   ]
  },
  {
   "cell_type": "code",
   "execution_count": null,
   "metadata": {},
   "outputs": [],
   "source": [
    "sns.set(rc={'figure.figsize': (16, 12)})\n",
    "sns.set_context(\"poster\", font_scale = .75, rc={\"grid.linewidth\": 1.0})\n",
    "ax = sns.boxplot(x = 'Severity', y = 'Year', data = accidents2, color = 'cyan')"
   ]
  },
  {
   "cell_type": "code",
   "execution_count": null,
   "metadata": {},
   "outputs": [],
   "source": [
    "plt.figure(figsize=(20,12))\n",
    "StatesAccidents = sns.countplot(y = 'State', data = accidents2, order = accidents2['State'].value_counts().index, palette='Blues')\n",
    "plt.ylabel(\"State\", labelpad=10, fontsize=10, weight = 'bold')\n",
    "plt.xlabel('Count of Accidents', labelpad=10,fontsize=15, weight='bold')\n",
    "plt.title('Accidents by State',fontsize=20, weight='bold')"
   ]
  },
  {
   "cell_type": "code",
   "execution_count": null,
   "metadata": {},
   "outputs": [],
   "source": [
    "#Accident Severity and Duration\n",
    "sns.set(rc={'figure.figsize': (12, 10)})\n",
    "sns.set_context(\"poster\", font_scale = .75, rc={\"grid.linewidth\": 1.0})\n",
    "ax = sns.boxplot(x = 'Duration', y = 'Severity', data = accidents2)"
   ]
  },
  {
   "cell_type": "code",
   "execution_count": null,
   "metadata": {},
   "outputs": [],
   "source": [
    "plt.figure(figsize=(20,12))\n",
    "sns.barplot(surroundings['Accidents'],surroundings.index, palette = 'Blues_r')\n",
    "plt.xticks(fontsize=12)\n",
    "plt.yticks(fontsize=12)\n",
    "plt.xlabel(\"Number of Traffic Accidents\", labelpad = 10, fontsize=15,weight='bold')\n",
    "plt.ylabel(\"Nearby Road Features\", labelpad = 12,fontsize=15, weight='bold')\n",
    "plt.title(\"Common Road Features and Traffic Accidents in California\", fontsize=20,weight='bold')"
   ]
  },
  {
   "cell_type": "code",
   "execution_count": null,
   "metadata": {},
   "outputs": [],
   "source": [
    "WeekendDF = accidents2[(accidents2['DayOfWeek'] == 'Saturday') | (df['DayOfWeek'] == 'Sunday')]\n",
    "WeekendDF2 = WeekendDF.groupby('Hour').count()['ID']\n",
    "WeekendDF2.plot(kind='bar', figsize=(10, 8))"
   ]
  },
  {
   "cell_type": "code",
   "execution_count": null,
   "metadata": {},
   "outputs": [],
   "source": []
  },
  {
   "cell_type": "markdown",
   "metadata": {},
   "source": [
    "# Visualizations - Severity and RoadRules/Types"
   ]
  },
  {
   "cell_type": "code",
   "execution_count": null,
   "metadata": {},
   "outputs": [],
   "source": [
    "accidents.Severity.value_counts()"
   ]
  },
  {
   "cell_type": "code",
   "execution_count": null,
   "metadata": {},
   "outputs": [],
   "source": [
    "#change the y-axis labels to the correct measure \n",
    "sns.set(rc={'figure.figsize': (6, 6)})\n",
    "sns.set_context(\"poster\", font_scale = .75, rc={\"grid.linewidth\": 1.0})\n",
    "sns.countplot(x=\"Severity\", data=accidents2, palette='autumn');"
   ]
  },
  {
   "cell_type": "code",
   "execution_count": null,
   "metadata": {},
   "outputs": [],
   "source": [
    "accidents.Sunrise_Sunset.value_counts()"
   ]
  },
  {
   "cell_type": "code",
   "execution_count": null,
   "metadata": {},
   "outputs": [],
   "source": [
    "sns.set_context(\"poster\", font_scale = .75, rc={\"grid.linewidth\": 1.0})\n",
    "sns.countplot(x=\"Severity\", data=accidents2, hue ='Sunrise_Sunset', palette='Accent');"
   ]
  },
  {
   "cell_type": "code",
   "execution_count": null,
   "metadata": {},
   "outputs": [],
   "source": [
    "accidents.Amenity.value_counts()"
   ]
  },
  {
   "cell_type": "code",
   "execution_count": null,
   "metadata": {},
   "outputs": [],
   "source": [
    "sns.set_context(\"poster\", font_scale = .75, rc={\"grid.linewidth\": 1.0})\n",
    "sns.countplot(x=\"Severity\", data=accidents2, hue ='Amenity', palette='Blues');"
   ]
  },
  {
   "cell_type": "code",
   "execution_count": null,
   "metadata": {},
   "outputs": [],
   "source": [
    "accidents.Bump.value_counts()"
   ]
  },
  {
   "cell_type": "code",
   "execution_count": null,
   "metadata": {},
   "outputs": [],
   "source": [
    "sns.set_context(\"poster\", font_scale = .75, rc={\"grid.linewidth\": 1.0})\n",
    "sns.countplot(x=\"Severity\", data=accidents2, hue ='Bump', palette='BrBG_r');"
   ]
  },
  {
   "cell_type": "code",
   "execution_count": null,
   "metadata": {},
   "outputs": [],
   "source": [
    "accidents.Crossing.value_counts()"
   ]
  },
  {
   "cell_type": "code",
   "execution_count": null,
   "metadata": {},
   "outputs": [],
   "source": [
    "sns.set_context(\"poster\", font_scale = .75, rc={\"grid.linewidth\": 1.0})\n",
    "sns.countplot(x=\"Severity\", data=accidents2, hue ='Crossing', palette='cividis');"
   ]
  },
  {
   "cell_type": "code",
   "execution_count": null,
   "metadata": {},
   "outputs": [],
   "source": [
    "accidents.Give_Way.value_counts()"
   ]
  },
  {
   "cell_type": "code",
   "execution_count": null,
   "metadata": {},
   "outputs": [],
   "source": [
    "sns.set_context(\"poster\", font_scale = .75, rc={\"grid.linewidth\": 1.0})\n",
    "sns.countplot(x=\"Severity\", data=accidents2, hue ='Give_Way', palette='Wistia');"
   ]
  },
  {
   "cell_type": "code",
   "execution_count": null,
   "metadata": {},
   "outputs": [],
   "source": [
    "accidents.Junction.value_counts()"
   ]
  },
  {
   "cell_type": "code",
   "execution_count": null,
   "metadata": {},
   "outputs": [],
   "source": [
    "sns.set_context(\"poster\", font_scale = .75, rc={\"grid.linewidth\": 1.0})\n",
    "sns.countplot(x=\"Severity\", data=accidents2, hue ='Junction', palette='copper');"
   ]
  },
  {
   "cell_type": "code",
   "execution_count": null,
   "metadata": {},
   "outputs": [],
   "source": [
    "accidents.No_Exit.value_counts()"
   ]
  },
  {
   "cell_type": "code",
   "execution_count": null,
   "metadata": {},
   "outputs": [],
   "source": [
    "sns.set_context(\"poster\", font_scale = .75, rc={\"grid.linewidth\": 1.0})\n",
    "sns.countplot(x=\"Severity\", data=accidents2, hue ='No_Exit', palette='gnuplot');"
   ]
  },
  {
   "cell_type": "code",
   "execution_count": null,
   "metadata": {},
   "outputs": [],
   "source": [
    "accidents.Railway.value_counts()"
   ]
  },
  {
   "cell_type": "code",
   "execution_count": null,
   "metadata": {},
   "outputs": [],
   "source": [
    "sns.set_context(\"poster\", font_scale = .75, rc={\"grid.linewidth\": 1.0})\n",
    "sns.countplot(x=\"Severity\", data=accidents2, hue ='Railway', palette='tab20b');"
   ]
  },
  {
   "cell_type": "code",
   "execution_count": null,
   "metadata": {},
   "outputs": [],
   "source": [
    "accidents.Roundabout.value_counts()"
   ]
  },
  {
   "cell_type": "code",
   "execution_count": null,
   "metadata": {},
   "outputs": [],
   "source": [
    "sns.set_context(\"poster\", font_scale = .75, rc={\"grid.linewidth\": 1.0})\n",
    "sns.countplot(x=\"Severity\", data=accidents2, hue ='Roundabout', palette='twilight');"
   ]
  },
  {
   "cell_type": "code",
   "execution_count": null,
   "metadata": {},
   "outputs": [],
   "source": [
    "accidents.Station.value_counts()"
   ]
  },
  {
   "cell_type": "code",
   "execution_count": null,
   "metadata": {},
   "outputs": [],
   "source": [
    "sns.set_context(\"poster\", font_scale = .75, rc={\"grid.linewidth\": 1.0})\n",
    "sns.countplot(x=\"Severity\", data=accidents2, hue ='Station', palette='ocean_r');"
   ]
  },
  {
   "cell_type": "code",
   "execution_count": null,
   "metadata": {},
   "outputs": [],
   "source": [
    "accidents.Stop.value_counts()"
   ]
  },
  {
   "cell_type": "code",
   "execution_count": null,
   "metadata": {},
   "outputs": [],
   "source": [
    "sns.set_context(\"poster\", font_scale = .75, rc={\"grid.linewidth\": 1.0})\n",
    "sns.countplot(x=\"Severity\", data=accidents2, hue ='Stop', palette='pink');"
   ]
  },
  {
   "cell_type": "code",
   "execution_count": null,
   "metadata": {},
   "outputs": [],
   "source": [
    "accidents.Traffic_Signal.value_counts()"
   ]
  },
  {
   "cell_type": "code",
   "execution_count": null,
   "metadata": {},
   "outputs": [],
   "source": [
    "sns.set_context(\"poster\", font_scale = .75, rc={\"grid.linewidth\": 1.0})\n",
    "sns.countplot(x=\"Severity\", data=accidents2, hue ='Traffic_Signal', palette='Spectral');"
   ]
  },
  {
   "cell_type": "code",
   "execution_count": null,
   "metadata": {},
   "outputs": [],
   "source": [
    "accidents.Turning_Loop.value_counts()"
   ]
  },
  {
   "cell_type": "code",
   "execution_count": null,
   "metadata": {},
   "outputs": [],
   "source": [
    "sns.set_context(\"poster\", font_scale = .75, rc={\"grid.linewidth\": 1.0})\n",
    "sns.countplot(x=\"Severity\", data=accidents2, hue ='Turning_Loop', palette='autumn');"
   ]
  },
  {
   "cell_type": "code",
   "execution_count": null,
   "metadata": {},
   "outputs": [],
   "source": [
    "# from wordcloud import WordCloud\n",
    "# plt.style.use('seaborn')\n",
    "# wrds1 = accidents[\"Description\"].str.split(\"(\").str[0].value_counts().keys()\n",
    "\n",
    "# wc1 = WordCloud(scale=5,max_words=1000,colormap=\"rainbow\",background_color=\"black\").generate(\" \".join(wrds1))\n",
    "# plt.figure(figsize=(20,14))\n",
    "# plt.imshow(wc1,interpolation=\"bilinear\")\n",
    "# plt.axis(\"off\")\n",
    "# plt.title(\"Patterned Words in Accident Description\",color='b')\n",
    "# plt.show()"
   ]
  },
  {
   "cell_type": "code",
   "execution_count": null,
   "metadata": {},
   "outputs": [],
   "source": [
    "sns.set_context(\"poster\", font_scale = 1.0, rc={\"grid.linewidth\": 1.0})\n",
    "sns.pairplot(accidents2[['Severity', 'Distance(mi)', 'Temperature(F)', 'Wind_Chill(F)', 'Humidity(%)']], plot_kws = {\"color\": \"green\"}, height = 10)"
   ]
  },
  {
   "cell_type": "code",
   "execution_count": null,
   "metadata": {},
   "outputs": [],
   "source": [
    "sns.set_context(\"poster\", font_scale = 1.0, rc={\"grid.linewidth\": 1.0})\n",
    "sns.pairplot(accidents2[['Pressure(in)', 'Severity', 'Visibility(mi)', 'Wind_Speed(mph)', 'Precipitation(in)']], plot_kws = {\"color\": \"purple\"}, height = 10)"
   ]
  },
  {
   "cell_type": "code",
   "execution_count": null,
   "metadata": {},
   "outputs": [],
   "source": [
    "# sns.set(rc={'figure.figsize': (10, 6)})\n",
    "# sns.catplot(x=\"OperatingSystem\", y=\"TransactionAmt\", hue=\"isFraud\",\n",
    "#             col=\"id_23\", aspect=.6,\n",
    "#             kind=\"swarm\", data=merged);"
   ]
  },
  {
   "cell_type": "code",
   "execution_count": null,
   "metadata": {},
   "outputs": [],
   "source": [
    "sns.set(rc={'figure.figsize': (6, 6)})\n",
    "sns.set_context(\"poster\", font_scale = .75, rc={\"grid.linewidth\": 1.0})\n",
    "sns.countplot(x=\"Amenity\", data=accidents2, palette='autumn');"
   ]
  },
  {
   "cell_type": "code",
   "execution_count": null,
   "metadata": {},
   "outputs": [],
   "source": [
    "sns.set(rc={'figure.figsize': (6, 6)})\n",
    "sns.set_context(\"poster\", font_scale = .75, rc={\"grid.linewidth\": 1.0})\n",
    "sns.countplot(x=\"Bump\", data=accidents2, palette='autumn');"
   ]
  },
  {
   "cell_type": "code",
   "execution_count": null,
   "metadata": {},
   "outputs": [],
   "source": [
    "sns.set(rc={'figure.figsize': (6, 6)})\n",
    "sns.set_context(\"poster\", font_scale = .75, rc={\"grid.linewidth\": 1.0})\n",
    "sns.countplot(x=\"Amenity\", data=accidents2, palette='autumn');"
   ]
  },
  {
   "cell_type": "markdown",
   "metadata": {},
   "source": [
    "# Visualizations  - Environmental Impact"
   ]
  },
  {
   "cell_type": "code",
   "execution_count": null,
   "metadata": {},
   "outputs": [],
   "source": []
  },
  {
   "cell_type": "code",
   "execution_count": null,
   "metadata": {},
   "outputs": [],
   "source": []
  },
  {
   "cell_type": "code",
   "execution_count": null,
   "metadata": {},
   "outputs": [],
   "source": []
  },
  {
   "cell_type": "code",
   "execution_count": null,
   "metadata": {},
   "outputs": [],
   "source": []
  },
  {
   "cell_type": "code",
   "execution_count": null,
   "metadata": {},
   "outputs": [],
   "source": []
  },
  {
   "cell_type": "code",
   "execution_count": null,
   "metadata": {},
   "outputs": [],
   "source": []
  }
 ],
 "metadata": {
  "kernelspec": {
   "display_name": "Python 3",
   "language": "python",
   "name": "python3"
  },
  "language_info": {
   "codemirror_mode": {
    "name": "ipython",
    "version": 3
   },
   "file_extension": ".py",
   "mimetype": "text/x-python",
   "name": "python",
   "nbconvert_exporter": "python",
   "pygments_lexer": "ipython3",
   "version": "3.7.7"
  }
 },
 "nbformat": 4,
 "nbformat_minor": 4
}
